{
 "cells": [
  {
   "cell_type": "markdown",
   "metadata": {},
   "source": []
  },
  {
   "cell_type": "markdown",
   "metadata": {},
   "source": [
    "\n",
    "#### Euclid’s algorithm for computing greatest common divisors (GCD)\n",
    "This is an efficient algorithm to compute the GCD of two non-negative intergers:\n",
    "\n",
    "* **Base case**: if one of the given numbers is zero, then the other is the GCD. Given gcd(a, 0), then a becomes the gcd\n",
    "\n",
    "* **Recursive step**: If the two numbers are positive:\n",
    "    * obtain the remainder by dividing the greater number by the smaller number\n",
    "    * call the algorithm again on the smaller number and the remainder as the new input\n",
    "    * continue this until the reminder becomes zero, as the GCD in each new case is same as the initial two numbers.\n",
    "    * now, the smaller number before zero becomes the GCD\n",
    "\n",
    "* **Example** : Let's find the GCD of 48 and 18 using Euclid's algorithm:\n",
    "    * 48 / 18 = 2 remainder 12\n",
    "    * GCD(18, 12) = GCD(12, 18 - 12) = GCD(12, 6)\n",
    "    * 12 / 6 = 2 remainder 0\n",
    "    * GCD(6, 0) = 6 (base case)"
   ]
  },
  {
   "cell_type": "code",
   "execution_count": 4,
   "metadata": {},
   "outputs": [
    {
     "name": "stdout",
     "output_type": "stream",
     "text": [
      "The greatest common divisor of 48 and 18 is: 6\n"
     ]
    }
   ],
   "source": [
    "# Python code for uclid’s algorithm \n",
    "\n",
    "def gcd(a, b):\n",
    "  \"\"\"\n",
    "  This function implements Euclid's algorithm to calculate the greatest common divisor (GCD) of two non-negative integers.\n",
    "\n",
    "  Args:\n",
    "      a: The first non-negative integer.\n",
    "      b: The second non-negative integer.\n",
    "\n",
    "  Returns:\n",
    "      The greatest common divisor of a and b.\n",
    "  \"\"\"\n",
    "\n",
    "  while b != 0:\n",
    "    a, b = b, a % b\n",
    "\n",
    "  return a\n",
    "\n",
    "# Example usage\n",
    "a = 48\n",
    "b = 18\n",
    "gcd_value = gcd(a, b)\n",
    "\n",
    "print(f\"The greatest common divisor of {a} and {b} is: {gcd_value}\")\n"
   ]
  }
 ],
 "metadata": {
  "kernelspec": {
   "display_name": "Python 3",
   "language": "python",
   "name": "python3"
  },
  "language_info": {
   "codemirror_mode": {
    "name": "ipython",
    "version": 3
   },
   "file_extension": ".py",
   "mimetype": "text/x-python",
   "name": "python",
   "nbconvert_exporter": "python",
   "pygments_lexer": "ipython3",
   "version": "3.10.13"
  }
 },
 "nbformat": 4,
 "nbformat_minor": 2
}
